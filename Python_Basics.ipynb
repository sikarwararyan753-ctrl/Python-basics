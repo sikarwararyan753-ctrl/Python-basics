{
  "nbformat": 4,
  "nbformat_minor": 0,
  "metadata": {
    "colab": {
      "provenance": []
    },
    "kernelspec": {
      "name": "python3",
      "display_name": "Python 3"
    },
    "language_info": {
      "name": "python"
    }
  },
  "cells": [
    {
      "cell_type": "markdown",
      "source": [
        "# python Basic question"
      ],
      "metadata": {
        "id": "jBJ62WKAzh99"
      }
    },
    {
      "cell_type": "markdown",
      "source": [
        "1.  What is Python, and why is it popular?\n",
        "    - Python is a high-level, general-purpose programming language known for its readability and versatility. It's popular due to its ease of learning, extensive libraries, and wide range of applications, including web development, data science, and artificial intelligence. Its simple syntax and strong community support make it a favorite among both beginners and experienced developers.\n",
        "\n",
        "2.   What is an interpreter in Python?\n",
        "     - In Python, an interpreter is a program that directly executes code written in the Python programming language without the need for prior compilation into machine code. Instead of translating the entire program at once, it reads and executes the code line by line.\n",
        "\n",
        "3.  What are pre-defined keywords in Python?\n",
        "    - Pre-defined keywords in Python are reserved words that have specific meanings and purposes within the language. These keywords are fundamental to Python's syntax and structure, and they cannot be used as identifiers (such as variable names, function names, or class names) by the programmer.\n",
        "\n",
        "     Key characteristics of Python keywords:\n",
        "     \n",
        "     Reserved : They are reserved by the Python interpreter for specific functionalities.\n",
        "     \n",
        "     Special Meaning : Each keyword carries a predefined meaning and performs a particular task or controls program flow.\n",
        "     \n",
        "     Cannot be Identifiers : Using a keyword as an identifier will result in a SyntaxError.\n",
        "\n",
        "     Case-sensitive : Most keywords are in lowercase, with the exceptions of True, False, and None.\n",
        "     \n",
        "4.   Can keywords be used as variable names?\n",
        "     - No, keywords cannot be used as variable names in most programming languages. Keywords are reserved words that have predefined meanings and are essential for the language's syntax and structure. Using them as variable names would lead to syntax errors because the compiler or interpreter would misinterpret them.\n",
        "\n",
        "5. What is mutability in Python?\n",
        "   - In Python, mutability refers to the ability of an object to be modified after it has been created. Objects are classified as either mutable or immutable based on whether their internal state or value can be changed.\n",
        "\n",
        "6.  Why are lists mutable, but tuples are immutable?\n",
        "    - Tuple and list data structures are very similar, but one big difference between the data types is that lists are mutable, whereas tuples are immutable. The reason for the tuple's immutability is that once the elements are added to the tuple and the tuple has been created; it remains unchanged\n",
        "\n",
        "7. What is the difference between “==” and “is” operators in Python?\n",
        "   - In Python, the == and is operators are used for comparison, but they serve distinct purposes:\n",
        "\n",
        "      == (Equality Operator):\n",
        "\n",
        "      This operator compares the values of two objects. It checks if the content or data held by the objects is the same.\n",
        "\n",
        "      For example, if you have two strings with the same sequence of characters, string1 == string2 will return True, even if they are stored in different memory locations.\n",
        "\n",
        "      It can be overridden by classes through the __eq__ method, allowing custom definitions of equality for user-defined objects.\n",
        "\n",
        "8.  What are logical operators in Python?\n",
        "    - Logical operators in Python are used to combine or modify Boolean expressions, which evaluate to either True or False. They are essential for controlling the flow of a program based on multiple conditions. Python provides three main logical operators:\n",
        "\n",
        "9.  What is type casting in Python?\n",
        "    - Type casting in Python, also known as type conversion, is the process of converting a value from one data type to another. This is a fundamental concept in programming, as it allows for flexibility in handling data and performing operations that might otherwise lead to type errors.\n",
        "\n",
        "     There are two main types of type casting in Python:\n",
        "\n",
        "     Implicit Type Conversion (Coercion) : This occurs automatically without any explicit action from the programmer. Python handles the conversion when performing operations involving different data types, usually promoting the \"smaller\" data type to the \"larger\" one to prevent data loss. For example, when adding an integer and a float, Python implicitly converts the integer to a float before performing the addition.      \n",
        "\n",
        "10.  What is the difference between implicit and explicit type casting?\n",
        "     - Implicit and explicit type casting (also known as type conversion) are two ways to convert a value from one data type to another in programming. Implicit type casting, or widening conversion, is done automatically by the compiler when it's safe and doesn't cause data loss. Explicit type casting, or narrowing conversion, is performed by the programmer using a cast operator (like (int)) to force a conversion, even if data loss might occur.\n",
        "\n",
        "11. What is the purpose of conditional statements in Python?\n",
        "    - The purpose of conditional statements in Python is to control the flow of execution in a program based on whether certain conditions are met. They enable a program to make decisions and perform different actions depending on the evaluation of specified conditions.\n",
        "\n",
        "     Specifically, conditional statements allow for:\n",
        "\n",
        "     Decision-Making:\n",
        "Programs can evaluate conditions (e.g., if x > 0, if user_input == \"yes\") and execute specific blocks of code only if those conditions are true\n",
        "\n",
        "     Dynamic Behavior:\n",
        "Code can adapt to different inputs, data values, or scenarios, leading to more flexible and responsive applications.\n",
        "\n",
        "     Handling Different Scenarios:\n",
        "You can define different code paths for various situations, such as handling valid vs. invalid user input, or performing different calculations based on specific criteria.\n",
        "\n",
        "     Controlling Program Flow:\n",
        "They dictate which parts of the code are executed and which are skipped, providing a structured way to manage program logic\n",
        "\n",
        "     The primary conditional statements in Python are if, elif (else if), and else, which are used to construct conditional logic.\n",
        "\n",
        "12.  How does the elif statement work?\n",
        "     - The elif statement, short for \"else if,\" is a conditional statement used in programming languages like Python to test multiple conditions sequentially. It works in conjunction with an if statement and optionally an else statement to create a chain of conditions.\n",
        "\n",
        "13.  What is the difference between for and while loops?\n",
        "     - The primary difference between for and while loops lies in how they handle the iteration process. For loops are typically used when the number of iterations is known beforehand, while while loops are more suitable when the number of iterations is not known in advance and depends on a condition.\n",
        "\n",
        "     For Loop:\n",
        "\n",
        "     Structure:\n",
        "for (initialization; condition; increment/decrement) { // code block }.\n",
        "\n",
        "     Known Iterations:\n",
        "Best used when you know exactly how many times you need to loop (e.g., iterating through an array of known size).\n",
        "\n",
        "     Concise:\n",
        "Provides a compact way to define the loop's initialization, condition, and increment/decrement all in one line.\n",
        "\n",
        "     Example:\n",
        "If you want to print numbers from 1 to 10, a for loop is ideal because you know the exact range.\n",
        "\n",
        "     While Loop:\n",
        "\n",
        "      Structure:\n",
        "while (condition) { // code block }.\n",
        "\n",
        "     Unknown Iterations:\n",
        "Ideal when the number of iterations is determined by a condition that might change during execution (e.g., reading input until a specific value is entered).\n",
        "\n",
        "     More Flexible:\n",
        "Can handle more complex scenarios where the number of iterations isn't predetermined.\n",
        "\n",
        "     Example:\n",
        "If you want to keep reading user input until they enter \"quit\", a while loop is more appropriate because the number of inputs is not known beforehand.\n",
        "\n",
        "     In essence:\n",
        "\n",
        "     : Use for loops when you need to iterate a specific number of times.\n",
        "\n",
        "     : Use while loops when you need to iterate based on a condition that might be true or false during execution.\n",
        "\n",
        "14. Describe a scenario where a while loop is more suitable than a for loop?\n",
        "\n",
        "    - A while loop is more suitable than a for loop when the number of iterations is unknown or dependent on a dynamic condition that changes during the loop's execution.\n",
        "Scenario: User Input Validation\n",
        "Consider a program that needs to repeatedly prompt a user for input until a valid entry is provided. For example, asking for a password until it meets specific complexity requirements or requesting a file path until a valid, existing file is entered.\n",
        "\n",
        "     In this scenario:\n",
        "\n",
        "    : The number of times the loop will execute is unknown beforehand; it depends entirely on how many attempts the user takes to enter a valid password.\n",
        "\n",
        "    : The loop's continuation condition (password length and digit presence) is dynamically evaluated after each attempt.\n",
        "\n",
        "     > A for loop would be less appropriate here because it is typically used when iterating over a known sequence or a predetermined number of times. Trying to force a for loop into this scenario would likely involve creating an artificial counter or a complex break condition, making the code less clear and more cumbersome than a simple while loop."
      ],
      "metadata": {
        "id": "LqyLSPNF0ukZ"
      }
    },
    {
      "cell_type": "markdown",
      "source": [
        "#  Practical Questions"
      ],
      "metadata": {
        "id": "ViujiYOIJIXY"
      }
    },
    {
      "cell_type": "code",
      "source": [
        "#1.  Write a Python program to print \"Hello, World\n",
        "print (\"hello,world\")\n"
      ],
      "metadata": {
        "colab": {
          "base_uri": "https://localhost:8080/"
        },
        "id": "Fg7BFnln608j",
        "outputId": "64a1bbd6-7b6c-492d-ecce-4e20e39c157f"
      },
      "execution_count": null,
      "outputs": [
        {
          "output_type": "stream",
          "name": "stdout",
          "text": [
            "hello,world\n"
          ]
        }
      ]
    },
    {
      "cell_type": "code",
      "source": [
        "#2. Python program with predefined name and age\n",
        "\n",
        "name = \"Aryan\"\n",
        "age = 18\n",
        "\n",
        "print(\"Your name is\", name)\n",
        "print(\"Your age is\", age)"
      ],
      "metadata": {
        "colab": {
          "base_uri": "https://localhost:8080/"
        },
        "id": "NAcWytv5A6vN",
        "outputId": "861d2309-4446-4431-83f3-714b3bd60e7d"
      },
      "execution_count": null,
      "outputs": [
        {
          "output_type": "stream",
          "name": "stdout",
          "text": [
            "Your name is Aryan\n",
            "Your age is 18\n"
          ]
        }
      ]
    },
    {
      "cell_type": "code",
      "source": [
        "#3. Write code to print all the pre-defined keywords in Python using the keyword library\n",
        "\n",
        "import keyword\n",
        "\n",
        "# Get the list of all Python keywords\n",
        "keywords_list = keyword.kwlist\n",
        "\n",
        "# Print each keyword\n",
        "print(\"Python Keywords:\")\n",
        "for kw in keywords_list:\n",
        "    print(kw)"
      ],
      "metadata": {
        "colab": {
          "base_uri": "https://localhost:8080/"
        },
        "id": "XVXED10cCdmu",
        "outputId": "bc837772-1c75-4a95-dcbd-44888ba7cd64"
      },
      "execution_count": null,
      "outputs": [
        {
          "output_type": "stream",
          "name": "stdout",
          "text": [
            "Python Keywords:\n",
            "False\n",
            "None\n",
            "True\n",
            "and\n",
            "as\n",
            "assert\n",
            "async\n",
            "await\n",
            "break\n",
            "class\n",
            "continue\n",
            "def\n",
            "del\n",
            "elif\n",
            "else\n",
            "except\n",
            "finally\n",
            "for\n",
            "from\n",
            "global\n",
            "if\n",
            "import\n",
            "in\n",
            "is\n",
            "lambda\n",
            "nonlocal\n",
            "not\n",
            "or\n",
            "pass\n",
            "raise\n",
            "return\n",
            "try\n",
            "while\n",
            "with\n",
            "yield\n"
          ]
        }
      ]
    },
    {
      "cell_type": "code",
      "source": [
        "#4.  Write a program that checks if a given word is a Python keyword\n",
        "\n",
        "import keyword\n",
        "\n",
        "\n",
        "word = input(\"Enter a word to check: \")\n",
        "\n",
        "\n",
        "if keyword.iskeyword(word):\n",
        "    print(f\"✅ '{word}' is a Python keyword.\")\n",
        "else:\n",
        "    print(f\"❌ '{word}' is NOT a Python keyword.\")"
      ],
      "metadata": {
        "colab": {
          "base_uri": "https://localhost:8080/"
        },
        "id": "MZc9iiMcCrRg",
        "outputId": "561dadb6-eaea-4447-b0ab-815f08f7f8ca"
      },
      "execution_count": null,
      "outputs": [
        {
          "output_type": "stream",
          "name": "stdout",
          "text": [
            "Enter a word to check: pwskills\n",
            "❌ 'pwskills' is NOT a Python keyword.\n"
          ]
        }
      ]
    },
    {
      "cell_type": "code",
      "source": [
        "#5. Create a list and tuple in Python, and demonstrate how attempting to change an element works differently foe each.\n",
        "\n",
        "my_list = [10, 20, 30]\n",
        "my_tuple = (10, 20, 30)\n",
        "\n",
        "# Modifying an element in the list\n",
        "print(\"Original list:\", my_list)\n",
        "my_list[1] = 99\n",
        "print(\"Modified list:\", my_list)\n",
        "\n",
        "# Attempting to modify an element in the tuple\n",
        "print(\"\\nOriginal tuple:\", my_tuple)\n",
        "try:\n",
        "    my_tuple[1] = 99\n",
        "except TypeError as e:\n",
        "    print(\"Error when modifying tuple:\", e)"
      ],
      "metadata": {
        "colab": {
          "base_uri": "https://localhost:8080/"
        },
        "id": "7WrYMcvnDESt",
        "outputId": "b4e82706-83be-4e88-f27f-42a7ff436d4a"
      },
      "execution_count": null,
      "outputs": [
        {
          "output_type": "stream",
          "name": "stdout",
          "text": [
            "Original list: [10, 20, 30]\n",
            "Modified list: [10, 99, 30]\n",
            "\n",
            "Original tuple: (10, 20, 30)\n",
            "Error when modifying tuple: 'tuple' object does not support item assignment\n"
          ]
        }
      ]
    },
    {
      "cell_type": "code",
      "source": [
        "#6. Write a function to demonstrate the behavior of mutable and immutable arguments\n",
        "# Function to modify arguments\n",
        "def modify_values(num, num_list):\n",
        "    print(\"\\nInside function before modification:\")\n",
        "    print(\"num =\", num)\n",
        "    print(\"num_list =\", num_list)\n",
        "\n",
        "    # Try modifying both\n",
        "    num += 10\n",
        "    num_list.append(100)\n",
        "\n",
        "    print(\"\\nInside function after modification:\")\n",
        "    print(\"num =\", num)\n",
        "    print(\"num_list =\", num_list)\n",
        "\n",
        "# Immutable argument (int)\n",
        "x = 50\n",
        "\n",
        "# Mutable argument (list)\n",
        "lst = [10, 20, 30]\n",
        "\n",
        "print(\"Before function call:\")\n",
        "print(\"x =\", x)\n",
        "print(\"lst =\", lst)\n",
        "\n",
        "# Call the function\n",
        "modify_values(x, lst)\n",
        "\n",
        "print(\"\\nAfter function call:\")\n",
        "print(\"x =\", x)         # unchanged\n",
        "print(\"lst =\", lst)     # changed"
      ],
      "metadata": {
        "colab": {
          "base_uri": "https://localhost:8080/"
        },
        "id": "JB_Wn2ilFlPv",
        "outputId": "4d435bbe-ee6e-43bf-9c0f-691a1d77177c"
      },
      "execution_count": null,
      "outputs": [
        {
          "output_type": "stream",
          "name": "stdout",
          "text": [
            "Before function call:\n",
            "x = 50\n",
            "lst = [10, 20, 30]\n",
            "\n",
            "Inside function before modification:\n",
            "num = 50\n",
            "num_list = [10, 20, 30]\n",
            "\n",
            "Inside function after modification:\n",
            "num = 60\n",
            "num_list = [10, 20, 30, 100]\n",
            "\n",
            "After function call:\n",
            "x = 50\n",
            "lst = [10, 20, 30, 100]\n"
          ]
        }
      ]
    },
    {
      "cell_type": "code",
      "source": [
        "# 7. Write a program that performs basic arithmetic operations on two user-input numbers.\n",
        "\n",
        "# Take user input\n",
        "num1 = float(input(\"Enter the first number: \"))\n",
        "num2 = float(input(\"Enter the second number: \"))\n",
        "\n",
        "# Perform arithmetic operations\n",
        "print(\"\\nArithmetic Operations Results:\")\n",
        "print(f\"Addition: {num1} + {num2} = {num1 + num2}\")\n",
        "print(f\"Subtraction: {num1} - {num2} = {num1 - num2}\")\n",
        "print(f\"Multiplication: {num1} * {num2} = {num1 * num2}\")\n",
        "\n",
        "# Handle division safely\n",
        "if num2 != 0:\n",
        "    print(f\"Division: {num1} / {num2} = {num1 / num2}\")\n",
        "    print(f\"Modulus: {num1} % {num2} = {num1 % num2}\")\n",
        "else:\n",
        "    print(\"Division and modulus by zero are not allowed.\")"
      ],
      "metadata": {
        "colab": {
          "base_uri": "https://localhost:8080/"
        },
        "id": "5fp8bp-KF8Bz",
        "outputId": "9ff942ea-c00c-4cfe-a537-733114c5fead"
      },
      "execution_count": null,
      "outputs": [
        {
          "output_type": "stream",
          "name": "stdout",
          "text": [
            "Enter the first number: 100\n",
            "Enter the second number: 85\n",
            "\n",
            "Arithmetic Operations Results:\n",
            "Addition: 100.0 + 85.0 = 185.0\n",
            "Subtraction: 100.0 - 85.0 = 15.0\n",
            "Multiplication: 100.0 * 85.0 = 8500.0\n",
            "Division: 100.0 / 85.0 = 1.1764705882352942\n",
            "Modulus: 100.0 % 85.0 = 15.0\n"
          ]
        }
      ]
    },
    {
      "cell_type": "code",
      "source": [
        "# 8. Write a program to demonstrate the use of logical operators.\n",
        "\n",
        "# Take user input\n",
        "a = int(input(\"Enter first number (a): \"))\n",
        "b = int(input(\"Enter second number (b): \"))\n",
        "\n",
        "# Display relational comparisons\n",
        "print(\"\\nRelational Comparisons:\")\n",
        "print(f\"a > 0: {a > 0}\")\n",
        "print(f\"b < 10: {b < 10}\")\n",
        "\n",
        "# Logical AND\n",
        "print(\"\\nLogical AND:\")\n",
        "print(f\"(a > 0) and (b < 10): {(a > 0) and (b < 10)}\")\n",
        "\n",
        "# Logical OR\n",
        "print(\"\\nLogical OR:\")\n",
        "print(f\"(a > 0) or (b < 10): {(a > 0) or (b < 10)}\")\n",
        "\n",
        "# Logical NOT\n",
        "print(\"\\nLogical NOT:\")\n",
        "print(f\"not(a > 0): {not(a > 0)}\")"
      ],
      "metadata": {
        "colab": {
          "base_uri": "https://localhost:8080/"
        },
        "id": "GyX9d0ucGX7M",
        "outputId": "2e159d3d-ca60-4dde-afaf-fedd259cbf62"
      },
      "execution_count": null,
      "outputs": [
        {
          "output_type": "stream",
          "name": "stdout",
          "text": [
            "Enter first number (a): 200\n",
            "Enter second number (b): 95\n",
            "\n",
            "Relational Comparisons:\n",
            "a > 0: True\n",
            "b < 10: False\n",
            "\n",
            "Logical AND:\n",
            "(a > 0) and (b < 10): False\n",
            "\n",
            "Logical OR:\n",
            "(a > 0) or (b < 10): True\n",
            "\n",
            "Logical NOT:\n",
            "not(a > 0): False\n"
          ]
        }
      ]
    },
    {
      "cell_type": "code",
      "source": [
        "# 9. Write a Python program to convert user input from string to integer, float, and boolean types.\n",
        "\n",
        "# Take user input as a string\n",
        "user_input = input(\"Enter a value: \")\n",
        "\n",
        "# Convert to integer\n",
        "try:\n",
        "    int_value = int(user_input)\n",
        "    print(f\"Integer conversion: {int_value}\")\n",
        "except ValueError:\n",
        "    print(\"❌ Cannot convert to integer.\")\n",
        "\n",
        "# Convert to float\n",
        "try:\n",
        "    float_value = float(user_input)\n",
        "    print(f\"Float conversion: {float_value}\")\n",
        "except ValueError:\n",
        "    print(\"❌ Cannot convert to float.\")\n",
        "\n",
        "# Convert to boolean\n",
        "bool_value = bool(user_input)\n",
        "print(f\"Boolean conversion: {bool_value}\")"
      ],
      "metadata": {
        "colab": {
          "base_uri": "https://localhost:8080/"
        },
        "id": "-cLG3iGyGzRu",
        "outputId": "23d0a21d-8093-4919-c448-b6ec8a05ab3f"
      },
      "execution_count": null,
      "outputs": [
        {
          "output_type": "stream",
          "name": "stdout",
          "text": [
            "Enter a value: 5000\n",
            "Integer conversion: 5000\n",
            "Float conversion: 5000.0\n",
            "Boolean conversion: True\n"
          ]
        }
      ]
    },
    {
      "cell_type": "code",
      "source": [
        "# 10. Write code to demonstrate type casting with list elements.\n",
        "\n",
        "# Original list of strings\n",
        "str_list = [\"10\", \"20\", \"30\", \"40\"]\n",
        "\n",
        "print(\"Original list (strings):\", str_list)\n",
        "\n",
        "# Convert each element to integer\n",
        "int_list = [int(x) for x in str_list]\n",
        "print(\"List after casting to integers:\", int_list)\n",
        "\n",
        "# Convert each element to float\n",
        "float_list = [float(x) for x in str_list]\n",
        "print(\"List after casting to floats:\", float_list)\n",
        "\n",
        "# Convert each element to boolean\n",
        "bool_list = [bool(x) for x in str_list]\n",
        "print(\"List after casting to booleans:\", bool_list)"
      ],
      "metadata": {
        "colab": {
          "base_uri": "https://localhost:8080/"
        },
        "id": "CgoK1CtLHCZZ",
        "outputId": "80cbaf43-4fa2-4095-e5e0-43bf84835ec6"
      },
      "execution_count": null,
      "outputs": [
        {
          "output_type": "stream",
          "name": "stdout",
          "text": [
            "Original list (strings): ['10', '20', '30', '40']\n",
            "List after casting to integers: [10, 20, 30, 40]\n",
            "List after casting to floats: [10.0, 20.0, 30.0, 40.0]\n",
            "List after casting to booleans: [True, True, True, True]\n"
          ]
        }
      ]
    },
    {
      "cell_type": "code",
      "source": [
        "#11. Write a program that checks if a number is positive, negative, or zero.\n",
        "\n",
        "# Input from user\n",
        "num = float(input(\"Enter a number: \"))\n",
        "\n",
        "# Check the number's sign\n",
        "if num > 0:\n",
        "    print(\"The number is positive.\")\n",
        "elif num < 0:\n",
        "    print(\"The number is negative.\")\n",
        "else:\n",
        "    print(\"The number is zero.\")"
      ],
      "metadata": {
        "colab": {
          "base_uri": "https://localhost:8080/"
        },
        "id": "bTijJOltHXyl",
        "outputId": "01f1f7fc-9571-43bd-bbc9-a7b6caa4a579"
      },
      "execution_count": null,
      "outputs": [
        {
          "output_type": "stream",
          "name": "stdout",
          "text": [
            "Enter a number: -5\n",
            "The number is negative.\n"
          ]
        }
      ]
    },
    {
      "cell_type": "code",
      "source": [
        "# 12. Write a for loop to print numbers from 1 to 10.\n",
        "\n",
        "# Loop from 1 to 10\n",
        "for i in range(1, 11):\n",
        "    print(i)"
      ],
      "metadata": {
        "colab": {
          "base_uri": "https://localhost:8080/"
        },
        "id": "-g9txlQhHmZ4",
        "outputId": "2e2143fd-4105-4cfa-ca76-a59300d719b0"
      },
      "execution_count": null,
      "outputs": [
        {
          "output_type": "stream",
          "name": "stdout",
          "text": [
            "1\n",
            "2\n",
            "3\n",
            "4\n",
            "5\n",
            "6\n",
            "7\n",
            "8\n",
            "9\n",
            "10\n"
          ]
        }
      ]
    },
    {
      "cell_type": "code",
      "source": [
        "# 13. Write a Python program to find the sum of all even numbers between 1 and 50.\n",
        "\n",
        "# Initialize sum\n",
        "even_sum = 0\n",
        "\n",
        "# Loop through numbers from 1 to 50\n",
        "for num in range(1, 51):\n",
        "    if num % 2 == 0:\n",
        "        even_sum += num\n",
        "\n",
        "# Display the result\n",
        "print(\"Sum of even numbers from 1 to 50 is:\", even_sum)"
      ],
      "metadata": {
        "colab": {
          "base_uri": "https://localhost:8080/"
        },
        "id": "rD1McmRqH50M",
        "outputId": "e31cdd96-8804-45a8-ba20-44ae0bb662af"
      },
      "execution_count": null,
      "outputs": [
        {
          "output_type": "stream",
          "name": "stdout",
          "text": [
            "Sum of even numbers from 1 to 50 is: 650\n"
          ]
        }
      ]
    },
    {
      "cell_type": "code",
      "source": [
        "# 14. Write a program to reverse a string using a while loop.\n",
        "\n",
        "# Input string from user\n",
        "text = input(\"Enter a string: \")\n",
        "\n",
        "# Initialize variables\n",
        "reversed_text = \"\"\n",
        "index = len(text) - 1\n",
        "\n",
        "# Loop backwards through the string\n",
        "while index >= 0:\n",
        "    reversed_text += text[index]\n",
        "    index -= 1\n",
        "\n",
        "# Display the reversed string\n",
        "print(\"Reversed string:\", reversed_text)"
      ],
      "metadata": {
        "colab": {
          "base_uri": "https://localhost:8080/"
        },
        "id": "MJ1xOmxLIFZK",
        "outputId": "7b40679e-2f14-4097-8038-d59e3303b6dd"
      },
      "execution_count": null,
      "outputs": [
        {
          "output_type": "stream",
          "name": "stdout",
          "text": [
            "Enter a string: Aarush\n",
            "Reversed string: hsuraA\n"
          ]
        }
      ]
    },
    {
      "cell_type": "code",
      "source": [
        "#15. Write a Python program to calculate the factorial of a number provided by the user using a while loop.\n",
        "\n",
        "# Input from user\n",
        "num = int(input(\"Enter a non-negative integer: \"))\n",
        "\n",
        "# Check for valid input\n",
        "if num < 0:\n",
        "    print(\"Factorial is not defined for negative numbers.\")\n",
        "else:\n",
        "    factorial = 1\n",
        "    i = 1\n",
        "\n",
        "    # Calculate factorial using while loop\n",
        "    while i <= num:\n",
        "        factorial *= i\n",
        "        i += 1\n",
        "\n",
        "    # Display the result\n",
        "    print(f\"Factorial of {num} is: {factorial}\")\n"
      ],
      "metadata": {
        "colab": {
          "base_uri": "https://localhost:8080/"
        },
        "id": "IXGns8hCISo3",
        "outputId": "dec0e6ce-4f5b-4d73-aca9-db880952ef48"
      },
      "execution_count": null,
      "outputs": [
        {
          "output_type": "stream",
          "name": "stdout",
          "text": [
            "Enter a non-negative integer: 5\n",
            "Factorial of 5 is: 120\n"
          ]
        }
      ]
    }
  ]
}